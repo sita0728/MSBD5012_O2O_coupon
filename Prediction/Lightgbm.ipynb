{
 "cells": [
  {
   "cell_type": "code",
   "execution_count": null,
   "metadata": {},
   "outputs": [],
   "source": [
    "#! /usr/bin/env python2.7\n",
    "# -*- coding: utf-8 -*-\n",
    "# File: data_view.py\n",
    "# Date: 2016-10-18\n",
    "# Author: Chaos <xinchaoxt@gmail.com>\n",
    "\n",
    "import pandas as pd\n",
    "import lightgbm as lgb\n",
    "from lightgbm import LGBMRegressor\n",
    "from sklearn.metrics import accuracy_score\n",
    "from sklearn.model_selection import cross_val_score\n",
    "from sklearn.preprocessing import MinMaxScaler\n",
    "\n",
    "\n",
    "dataset1 = pd.read_csv('data/dataset1.csv')\n",
    "dataset1.label.replace(-1,0,inplace=True)\n",
    "dataset2 = pd.read_csv('data/dataset2.csv')\n",
    "dataset2.label.replace(-1,0,inplace=True)\n",
    "dataset3 = pd.read_csv('data/dataset3.csv')\n",
    "\n",
    "dataset1.drop_duplicates(inplace=True)\n",
    "dataset2.drop_duplicates(inplace=True)\n",
    "dataset3.drop_duplicates(inplace=True)\n",
    "\n",
    "dataset12 = pd.concat([dataset1,dataset2],axis=0)\n",
    "\n",
    "dataset1_y = dataset1.label\n",
    "dataset1_x = dataset1.drop(['user_id','label','day_gap_before','day_gap_after'],axis=1)  # 'day_gap_before','day_gap_after' cause overfitting, 0.77\n",
    "dataset2_y = dataset2.label\n",
    "dataset2_x = dataset2.drop(['user_id','label','day_gap_before','day_gap_after'],axis=1)\n",
    "dataset12_y = dataset12.label\n",
    "dataset12_x = dataset12.drop(['user_id','label','day_gap_before','day_gap_after'],axis=1)\n",
    "dataset3_preds = dataset3[['user_id','coupon_id','date_received']]\n",
    "dataset3_x = dataset3.drop(['user_id','coupon_id','date_received','day_gap_before','day_gap_after'],axis=1)\n",
    "\n",
    "print(dataset1_x.shape,dataset2_x.shape,dataset3_x.shape)\n"
   ]
  },
  {
   "cell_type": "code",
   "execution_count": null,
   "metadata": {},
   "outputs": [],
   "source": [
    "\n",
    "\n",
    "seed = 13\n",
    "gbmr = LGBMRegressor(\n",
    "    application='regression',\n",
    "    learning_rate=0.1,\n",
    "    tree_learner='serial',\n",
    "    min_data_in_leaf=10,\n",
    "    metric='auc',\n",
    "    feature_fraction=0.7,\n",
    "    feature_fraction_seed=seed,\n",
    "    bagging_fraction=1,\n",
    "    bagging_freq=10,\n",
    "    bagging_seed=seed,\n",
    "    metric_freq=1,\n",
    ")\n",
    "lgbmodel = gbmr.fit(dataset1_x, dataset1_y)\n",
    "\n",
    "pred = lgbmodel.predict(dataset2_x)\n",
    "\n",
    "\n",
    "\n",
    "from sklearn.metrics import roc_auc_score\n",
    "score = roc_auc_score(dataset2_y, pred)\n",
    "print(score)\n"
   ]
  },
  {
   "cell_type": "code",
   "execution_count": null,
   "metadata": {},
   "outputs": [],
   "source": []
  },
  {
   "cell_type": "code",
   "execution_count": null,
   "metadata": {},
   "outputs": [],
   "source": [
    "\n",
    "    \n",
    "\n",
    "\n"
   ]
  },
  {
   "cell_type": "code",
   "execution_count": null,
   "metadata": {},
   "outputs": [],
   "source": [
    "\n"
   ]
  },
  {
   "cell_type": "code",
   "execution_count": null,
   "metadata": {},
   "outputs": [],
   "source": []
  },
  {
   "cell_type": "code",
   "execution_count": null,
   "metadata": {},
   "outputs": [],
   "source": []
  }
 ],
 "metadata": {
  "kernelspec": {
   "display_name": "Python 3",
   "language": "python",
   "name": "python3"
  },
  "language_info": {
   "codemirror_mode": {
    "name": "ipython",
    "version": 3
   },
   "file_extension": ".py",
   "mimetype": "text/x-python",
   "name": "python",
   "nbconvert_exporter": "python",
   "pygments_lexer": "ipython3",
   "version": "3.8.3"
  }
 },
 "nbformat": 4,
 "nbformat_minor": 4
}
