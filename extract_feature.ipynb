{
 "cells": [
  {
   "cell_type": "code",
   "execution_count": 1,
   "metadata": {},
   "outputs": [],
   "source": [
    "from datetime import date\n",
    "\n",
    "import numpy as np\n",
    "import pandas as pd\n",
    "\n",
    "import seaborn as sns\n",
    "import matplotlib.pyplot as plt\n",
    "\n",
    "import warnings\n",
    "warnings.filterwarnings('ignore')\n",
    "sns.set(style='white', context='notebook', palette='deep')  \n",
    "%matplotlib inline"
   ]
  },
  {
   "cell_type": "code",
   "execution_count": 59,
   "metadata": {},
   "outputs": [
    {
     "name": "stderr",
     "output_type": "stream",
     "text": [
      "/Users/jimmy233/opt/anaconda3/lib/python3.8/site-packages/IPython/core/interactiveshell.py:3071: DtypeWarning: Columns (0,1,2,4,5,6) have mixed types.Specify dtype option on import or set low_memory=False.\n",
      "  has_raised = await self.run_ast_nodes(code_ast.body, cell_name,\n"
     ]
    }
   ],
   "source": [
    "#1754884 record,1053282 with coupon_id,9738 coupon. date_received:20160101~20160615,date:20160101~20160630, 539438 users, 8415 merchants\n",
    "off_train = pd.read_csv('data/ccf_offline_stage1_train.csv',header=None)\n",
    "off_train.columns = ['user_id','merchant_id','coupon_id','discount_rate','distance','date_received','date']\n",
    "#2050 coupon_id. date_received:20160701~20160731, 76309 users(76307 in trainset, 35965 in online_trainset), 1559 merchants(1558 in trainset)\n",
    "off_test = pd.read_csv('data/ccf_offline_stage1_test_revised.csv',header=None)\n",
    "off_test.columns = ['user_id','merchant_id','coupon_id','discount_rate','distance','date_received']\n",
    "\n",
    "off_train.drop(index=0,inplace=True)\n",
    "off_test.drop(index=0,inplace=True)"
   ]
  },
  {
   "cell_type": "code",
   "execution_count": 60,
   "metadata": {},
   "outputs": [
    {
     "data": {
      "text/html": [
       "<div>\n",
       "<style scoped>\n",
       "    .dataframe tbody tr th:only-of-type {\n",
       "        vertical-align: middle;\n",
       "    }\n",
       "\n",
       "    .dataframe tbody tr th {\n",
       "        vertical-align: top;\n",
       "    }\n",
       "\n",
       "    .dataframe thead th {\n",
       "        text-align: right;\n",
       "    }\n",
       "</style>\n",
       "<table border=\"1\" class=\"dataframe\">\n",
       "  <thead>\n",
       "    <tr style=\"text-align: right;\">\n",
       "      <th></th>\n",
       "      <th>user_id</th>\n",
       "      <th>merchant_id</th>\n",
       "      <th>coupon_id</th>\n",
       "      <th>discount_rate</th>\n",
       "      <th>distance</th>\n",
       "      <th>date_received</th>\n",
       "      <th>date</th>\n",
       "    </tr>\n",
       "  </thead>\n",
       "  <tbody>\n",
       "    <tr>\n",
       "      <th>1</th>\n",
       "      <td>1439408</td>\n",
       "      <td>2632</td>\n",
       "      <td>NaN</td>\n",
       "      <td>NaN</td>\n",
       "      <td>0</td>\n",
       "      <td>NaN</td>\n",
       "      <td>20160217</td>\n",
       "    </tr>\n",
       "    <tr>\n",
       "      <th>2</th>\n",
       "      <td>1439408</td>\n",
       "      <td>4663</td>\n",
       "      <td>11002</td>\n",
       "      <td>150:20</td>\n",
       "      <td>1</td>\n",
       "      <td>20160528</td>\n",
       "      <td>NaN</td>\n",
       "    </tr>\n",
       "    <tr>\n",
       "      <th>3</th>\n",
       "      <td>1439408</td>\n",
       "      <td>2632</td>\n",
       "      <td>8591</td>\n",
       "      <td>20:1</td>\n",
       "      <td>0</td>\n",
       "      <td>20160217</td>\n",
       "      <td>NaN</td>\n",
       "    </tr>\n",
       "    <tr>\n",
       "      <th>4</th>\n",
       "      <td>1439408</td>\n",
       "      <td>2632</td>\n",
       "      <td>1078</td>\n",
       "      <td>20:1</td>\n",
       "      <td>0</td>\n",
       "      <td>20160319</td>\n",
       "      <td>NaN</td>\n",
       "    </tr>\n",
       "    <tr>\n",
       "      <th>5</th>\n",
       "      <td>1439408</td>\n",
       "      <td>2632</td>\n",
       "      <td>8591</td>\n",
       "      <td>20:1</td>\n",
       "      <td>0</td>\n",
       "      <td>20160613</td>\n",
       "      <td>NaN</td>\n",
       "    </tr>\n",
       "  </tbody>\n",
       "</table>\n",
       "</div>"
      ],
      "text/plain": [
       "   user_id merchant_id coupon_id discount_rate distance date_received  \\\n",
       "1  1439408        2632       NaN           NaN        0           NaN   \n",
       "2  1439408        4663     11002        150:20        1      20160528   \n",
       "3  1439408        2632      8591          20:1        0      20160217   \n",
       "4  1439408        2632      1078          20:1        0      20160319   \n",
       "5  1439408        2632      8591          20:1        0      20160613   \n",
       "\n",
       "       date  \n",
       "1  20160217  \n",
       "2       NaN  \n",
       "3       NaN  \n",
       "4       NaN  \n",
       "5       NaN  "
      ]
     },
     "execution_count": 60,
     "metadata": {},
     "output_type": "execute_result"
    }
   ],
   "source": [
    "off_train.head()"
   ]
  },
  {
   "cell_type": "markdown",
   "metadata": {},
   "source": [
    "# Data Split"
   ]
  },
  {
   "cell_type": "code",
   "execution_count": 61,
   "metadata": {},
   "outputs": [],
   "source": [
    "off_train.fillna('null',inplace=True)\n",
    "\n",
    "def tran_int_str(col):\n",
    "    if col=='null':\n",
    "        return col\n",
    "    else:\n",
    "        return str(int(float(col)))\n",
    "\n",
    "off_train['date'] = off_train['date'].apply(tran_int_str)\n",
    "off_train['date_received'] = off_train['date_received'].apply(tran_int_str)"
   ]
  },
  {
   "cell_type": "code",
   "execution_count": 62,
   "metadata": {},
   "outputs": [],
   "source": [
    "dataset3 = off_test\n",
    "feature3 = off_train[(\n",
    "    (off_train.date >= '20160315') & (off_train.date <= '20160630')) | (\n",
    "        (off_train.date == 'null') & (off_train.date_received >= '20160315') &\n",
    "        (off_train.date_received <= '20160630'))]\n",
    "dataset2 = off_train[(off_train.date_received >= '20160515')\n",
    "                     & (off_train.date_received <= '20160615')]\n",
    "feature2 = off_train[\n",
    "    (off_train.date >= '20160201') & (off_train.date <= '20160514')\n",
    "    | ((off_train.date == 'null') & (off_train.date_received >= '20160201') &\n",
    "       (off_train.date_received <= '20160514'))]\n",
    "dataset1 = off_train[(off_train.date_received >= '20160414')\n",
    "                     & (off_train.date_received <= '20160514')]\n",
    "feature1 = off_train[\n",
    "    (off_train.date >= '20160101') & (off_train.date <= '20160413')\n",
    "    | ((off_train.date == 'null') & (off_train.date_received >= '20160101') &\n",
    "       (off_train.date_received <= '20160413'))]"
   ]
  },
  {
   "cell_type": "markdown",
   "metadata": {},
   "source": [
    "# Extract Feature(1.Merchant Related and 5. Other Feature)"
   ]
  },
  {
   "cell_type": "markdown",
   "metadata": {},
   "source": [
    "## dataset 3 other feature"
   ]
  },
  {
   "cell_type": "code",
   "execution_count": 63,
   "metadata": {},
   "outputs": [
    {
     "name": "stderr",
     "output_type": "stream",
     "text": [
      "<ipython-input-63-a2acdd02fff2>:2: SettingWithCopyWarning: \n",
      "A value is trying to be set on a copy of a slice from a DataFrame.\n",
      "Try using .loc[row_indexer,col_indexer] = value instead\n",
      "\n",
      "See the caveats in the documentation: https://pandas.pydata.org/pandas-docs/stable/user_guide/indexing.html#returning-a-view-versus-a-copy\n",
      "  t['this_month_user_receive_all_coupon_count'] = 1\n"
     ]
    }
   ],
   "source": [
    "t = dataset3[['user_id']]\n",
    "t['this_month_user_receive_all_coupon_count'] = 1\n",
    "t = t.groupby('user_id').agg('sum').reset_index()\n",
    "# t 此月用户领取全部优惠券数目"
   ]
  },
  {
   "cell_type": "code",
   "execution_count": 65,
   "metadata": {},
   "outputs": [
    {
     "name": "stderr",
     "output_type": "stream",
     "text": [
      "<ipython-input-65-f37557c4fba2>:2: SettingWithCopyWarning: \n",
      "A value is trying to be set on a copy of a slice from a DataFrame.\n",
      "Try using .loc[row_indexer,col_indexer] = value instead\n",
      "\n",
      "See the caveats in the documentation: https://pandas.pydata.org/pandas-docs/stable/user_guide/indexing.html#returning-a-view-versus-a-copy\n",
      "  t1['this_month_user_receive_same_coupon_count'] = 1\n"
     ]
    }
   ],
   "source": [
    "t1 = dataset3[['user_id','coupon_id']]\n",
    "t1['this_month_user_receive_same_coupon_count'] = 1\n",
    "t1 = t1.groupby(['user_id','coupon_id']).agg('sum').reset_index()\n",
    "# t1 此月用户领取相同优惠券数目"
   ]
  },
  {
   "cell_type": "code",
   "execution_count": 68,
   "metadata": {},
   "outputs": [
    {
     "name": "stderr",
     "output_type": "stream",
     "text": [
      "/Users/jimmy233/opt/anaconda3/lib/python3.8/site-packages/pandas/core/generic.py:5303: SettingWithCopyWarning: \n",
      "A value is trying to be set on a copy of a slice from a DataFrame.\n",
      "Try using .loc[row_indexer,col_indexer] = value instead\n",
      "\n",
      "See the caveats in the documentation: https://pandas.pydata.org/pandas-docs/stable/user_guide/indexing.html#returning-a-view-versus-a-copy\n",
      "  self[name] = value\n"
     ]
    }
   ],
   "source": [
    "t2 = dataset3[['user_id', 'coupon_id', 'date_received']]\n",
    "t2.date_received = t2.date_received.astype('str')\n",
    "t2 = t2.groupby(\n",
    "    ['user_id',\n",
    "     'coupon_id'])['date_received'].agg(lambda x: ':'.join(x)).reset_index()\n",
    "t2['receive_number'] = t2.date_received.apply(lambda s: len(s.split(':')))\n",
    "t2 = t2[t2.receive_number > 1]        \n",
    "t2['max_date_received'] = t2.date_received.apply(\n",
    "    lambda s: max([int(d) for d in s.split(':')]))\n",
    "t2['min_date_received'] = t2.date_received.apply(\n",
    "    lambda s: min([int(d) for d in s.split(':')]))\n",
    "t2 = t2[['user_id', 'coupon_id', 'max_date_received', 'min_date_received']]\n",
    "#t2 用户同一优惠券领取最大最小时间(leakage)"
   ]
  },
  {
   "cell_type": "code",
   "execution_count": 70,
   "metadata": {},
   "outputs": [],
   "source": [
    "t3 = dataset3[['user_id', 'coupon_id', 'date_received']]\n",
    "t3 = pd.merge(t3, t2, on=['user_id', 'coupon_id'], how='left')\n",
    "t3.date_received = t3.date_received.apply(lambda x : float(x))\n",
    "t3['this_month_user_receive_same_coupon_lastone'] = t3.max_date_received - t3.date_received\n",
    "t3['this_month_user_receive_same_coupon_firstone'] = t3.date_received - t3.min_date_received\n",
    "\n",
    "\n",
    "def is_firstlastone(x):\n",
    "    if x == 0:\n",
    "        return 1\n",
    "    elif x > 0:\n",
    "        return 0\n",
    "    else:\n",
    "        return -1  #those only receive once\n",
    "\n",
    "\n",
    "t3.this_month_user_receive_same_coupon_lastone = t3.this_month_user_receive_same_coupon_lastone.apply(\n",
    "    is_firstlastone)\n",
    "t3.this_month_user_receive_same_coupon_firstone = t3.this_month_user_receive_same_coupon_firstone.apply(\n",
    "    is_firstlastone)\n",
    "t3 = t3[[\n",
    "    'user_id', 'coupon_id', 'date_received',\n",
    "    'this_month_user_receive_same_coupon_lastone',\n",
    "    'this_month_user_receive_same_coupon_firstone'\n",
    "]]\n",
    "\n",
    "t3['date_received'] = t3['date_received'].apply(lambda x : str(int(x)))   #将t3的时间格式转换为str\n",
    "#t3 用户此优惠券为本月第一次领取或者最后一次领取"
   ]
  },
  {
   "cell_type": "code",
   "execution_count": 73,
   "metadata": {},
   "outputs": [
    {
     "name": "stderr",
     "output_type": "stream",
     "text": [
      "<ipython-input-73-c1df799ee268>:2: SettingWithCopyWarning: \n",
      "A value is trying to be set on a copy of a slice from a DataFrame.\n",
      "Try using .loc[row_indexer,col_indexer] = value instead\n",
      "\n",
      "See the caveats in the documentation: https://pandas.pydata.org/pandas-docs/stable/user_guide/indexing.html#returning-a-view-versus-a-copy\n",
      "  t4['this_day_user_receive_all_coupon_count'] = 1\n"
     ]
    }
   ],
   "source": [
    "t4 = dataset3[['user_id','date_received']]\n",
    "t4['this_day_user_receive_all_coupon_count'] = 1\n",
    "t4 = t4.groupby(['user_id','date_received']).agg('sum').reset_index()\n",
    "# t4 当天接受优惠券总数"
   ]
  },
  {
   "cell_type": "code",
   "execution_count": 75,
   "metadata": {},
   "outputs": [
    {
     "name": "stderr",
     "output_type": "stream",
     "text": [
      "<ipython-input-75-a76cfc230875>:2: SettingWithCopyWarning: \n",
      "A value is trying to be set on a copy of a slice from a DataFrame.\n",
      "Try using .loc[row_indexer,col_indexer] = value instead\n",
      "\n",
      "See the caveats in the documentation: https://pandas.pydata.org/pandas-docs/stable/user_guide/indexing.html#returning-a-view-versus-a-copy\n",
      "  t5['this_day_user_receive_same_coupon_count'] = 1\n"
     ]
    }
   ],
   "source": [
    "t5 = dataset3[['user_id','coupon_id','date_received']]\n",
    "t5['this_day_user_receive_same_coupon_count'] = 1\n",
    "t5 = t5.groupby(['user_id','coupon_id','date_received']).agg('sum').reset_index()\n",
    "# t5 当天接受相同优惠券数目"
   ]
  },
  {
   "cell_type": "code",
   "execution_count": 76,
   "metadata": {},
   "outputs": [
    {
     "name": "stderr",
     "output_type": "stream",
     "text": [
      "/Users/jimmy233/opt/anaconda3/lib/python3.8/site-packages/pandas/core/generic.py:5303: SettingWithCopyWarning: \n",
      "A value is trying to be set on a copy of a slice from a DataFrame.\n",
      "Try using .loc[row_indexer,col_indexer] = value instead\n",
      "\n",
      "See the caveats in the documentation: https://pandas.pydata.org/pandas-docs/stable/user_guide/indexing.html#returning-a-view-versus-a-copy\n",
      "  self[name] = value\n"
     ]
    }
   ],
   "source": [
    "t6 = dataset3[['user_id', 'coupon_id', 'date_received']]\n",
    "t6.date_received = t6.date_received.astype('str')\n",
    "t6 = t6.groupby(\n",
    "    ['user_id',\n",
    "     'coupon_id'])['date_received'].agg(lambda x: ':'.join(x)).reset_index()\n",
    "t6.rename(columns={'date_received': 'dates'}, inplace=True)\n",
    "# t6 同一用户同一优惠券领取的时间集合 ** **t7 : 113640 样本数"
   ]
  },
  {
   "cell_type": "code",
   "execution_count": 79,
   "metadata": {},
   "outputs": [],
   "source": [
    "def get_day_gap_before(s):\n",
    "    date_received, dates = s.split('-')\n",
    "    dates = dates.split(':')\n",
    "    gaps = []\n",
    "    for d in dates:\n",
    "        this_gap = (date(\n",
    "            int(date_received[0:4]), int(date_received[4:6]),\n",
    "            int(date_received[6:8])) - date(\n",
    "                int(d[0:4]), int(d[4:6]), int(d[6:8]))).days\n",
    "        if this_gap > 0:                   #只考虑以前领取的\n",
    "            gaps.append(this_gap)\n",
    "    if len(gaps) == 0:\n",
    "        return -1\n",
    "    else:\n",
    "        return min(gaps)\n",
    "\n",
    "\n",
    "def get_day_gap_after(s):\n",
    "    date_received, dates = s.split('-')\n",
    "    dates = dates.split(':')\n",
    "    gaps = []\n",
    "    for d in dates:\n",
    "        this_gap = (date(int(d[0:4]), int(d[4:6]), int(d[6:8])) - date(\n",
    "            int(date_received[0:4]), int(date_received[4:6]),\n",
    "            int(date_received[6:8]))).days\n",
    "        if this_gap > 0:                    #只考虑之后领取的\n",
    "            gaps.append(this_gap)\n",
    "    if len(gaps) == 0:\n",
    "        return -1\n",
    "    else:\n",
    "        return min(gaps)\n",
    "\n",
    "\n",
    "t7 = dataset3[['user_id', 'coupon_id', 'date_received']]\n",
    "t7 = pd.merge(t7, t6, on=['user_id', 'coupon_id'], how='left')\n",
    "t7['date_received_date'] = t7.date_received.astype('str') + '-' + t7.dates\n",
    "t7['day_gap_before'] = t7.date_received_date.apply(get_day_gap_before)\n",
    "t7['day_gap_after'] = t7.date_received_date.apply(get_day_gap_after)\n",
    "t7 = t7[[\n",
    "    'user_id', 'coupon_id', 'date_received', 'day_gap_before', 'day_gap_after'\n",
    "]]\n",
    "# t7前后一次领取优惠券间隔时间"
   ]
  },
  {
   "cell_type": "code",
   "execution_count": 81,
   "metadata": {},
   "outputs": [],
   "source": [
    "other_feature3 = pd.merge(t1, t, on='user_id')\n",
    "other_feature3 = pd.merge(other_feature3, t3, on=['user_id', 'coupon_id'])\n",
    "other_feature3 = pd.merge(other_feature3, t4, on=['user_id', 'date_received'])\n",
    "other_feature3 = pd.merge(\n",
    "    other_feature3, t5, on=['user_id', 'coupon_id', 'date_received'])\n",
    "other_feature3 = pd.merge(\n",
    "    other_feature3, t7, on=['user_id', 'coupon_id', 'date_received'])\n",
    "other_feature3.to_csv('data/other_feature3.csv', index=None)"
   ]
  },
  {
   "cell_type": "markdown",
   "metadata": {},
   "source": [
    "## dataset2 other feature"
   ]
  },
  {
   "cell_type": "code",
   "execution_count": 80,
   "metadata": {},
   "outputs": [],
   "source": [
    "def get_feature(dataset):\n",
    "    #for dataset\n",
    "    #dataset['date_received'] = dataset['date_received'].apply(lambda x : str(int(float(x))))\n",
    "    t = dataset[['user_id']]\n",
    "    t['this_month_user_receive_all_coupon_count'] = 1\n",
    "    t = t.groupby('user_id').agg('sum').reset_index()\n",
    "\n",
    "    t1 = dataset[['user_id','coupon_id']]\n",
    "    t1['this_month_user_receive_same_coupon_count'] = 1\n",
    "    t1 = t1.groupby(['user_id','coupon_id']).agg('sum').reset_index()\n",
    "\n",
    "    t2 = dataset[['user_id', 'coupon_id', 'date_received']]\n",
    "    t2.date_received = t2.date_received.astype('str')\n",
    "    t2 = t2.groupby(\n",
    "        ['user_id',\n",
    "         'coupon_id'])['date_received'].agg(lambda x: ':'.join(x)).reset_index()\n",
    "    t2['receive_number'] = t2.date_received.apply(lambda s: len(s.split(':')))\n",
    "    t2 = t2[t2.receive_number > 1]        #保证至少有两条领取记录,代表一定使用过了上一张优惠券\n",
    "    t2['max_date_received'] = t2.date_received.apply(\n",
    "        lambda s: max([int(d) for d in s.split(':')]))\n",
    "    t2['min_date_received'] = t2.date_received.apply(\n",
    "        lambda s: min([int(d) for d in s.split(':')]))\n",
    "    t2 = t2[['user_id', 'coupon_id', 'max_date_received', 'min_date_received']]\n",
    "\n",
    "    t3 = dataset[['user_id', 'coupon_id', 'date_received']]\n",
    "    t3 = pd.merge(t3, t2, on=['user_id', 'coupon_id'], how='left')\n",
    "    t3.date_received = t3.date_received.apply(lambda x : float(x))\n",
    "    t3['this_month_user_receive_same_coupon_lastone'] = t3.max_date_received - t3.date_received\n",
    "    t3['this_month_user_receive_same_coupon_firstone'] = t3.date_received - t3.min_date_received\n",
    "\n",
    "\n",
    "    def is_firstlastone(x):\n",
    "        if x == 0:\n",
    "            return 1\n",
    "        elif x > 0:\n",
    "            return 0\n",
    "        else:\n",
    "            return -1  #those only receive once\n",
    "\n",
    "\n",
    "    t3.this_month_user_receive_same_coupon_lastone = t3.this_month_user_receive_same_coupon_lastone.apply(\n",
    "        is_firstlastone)\n",
    "    t3.this_month_user_receive_same_coupon_firstone = t3.this_month_user_receive_same_coupon_firstone.apply(\n",
    "        is_firstlastone)\n",
    "    t3 = t3[[\n",
    "        'user_id', 'coupon_id', 'date_received',\n",
    "        'this_month_user_receive_same_coupon_lastone',\n",
    "        'this_month_user_receive_same_coupon_firstone'\n",
    "    ]]\n",
    "\n",
    "    t3['date_received'] = t3['date_received'].apply(lambda x : str(int(x)))   #将t3的时间格式转换为str\n",
    "    \n",
    "    \n",
    "    t4 = dataset[['user_id','date_received']]\n",
    "    t4['this_day_user_receive_all_coupon_count'] = 1\n",
    "    t4 = t4.groupby(['user_id','date_received']).agg('sum').reset_index()\n",
    "\n",
    "    t5 = dataset[['user_id','coupon_id','date_received']]\n",
    "    t5['this_day_user_receive_same_coupon_count'] = 1\n",
    "    t5 = t5.groupby(['user_id','coupon_id','date_received']).agg('sum').reset_index()\n",
    "\n",
    "    t6 = dataset[['user_id', 'coupon_id', 'date_received']]\n",
    "    t6.date_received = t6.date_received.astype('str')\n",
    "    t6 = t6.groupby(\n",
    "        ['user_id',\n",
    "         'coupon_id'])['date_received'].agg(lambda x: ':'.join(x)).reset_index()\n",
    "    t6.rename(columns={'date_received': 'dates'}, inplace=True)\n",
    "\n",
    "    def get_day_gap_before(s):\n",
    "        date_received, dates = s.split('-')\n",
    "        dates = dates.split(':')\n",
    "        gaps = []\n",
    "        for d in dates:\n",
    "            this_gap = (date(\n",
    "                int(date_received[0:4]), int(date_received[4:6]),\n",
    "                int(date_received[6:8])) - date(\n",
    "                    int(d[0:4]), int(d[4:6]), int(d[6:8]))).days\n",
    "            if this_gap > 0:                   #只考虑以前领取的\n",
    "                gaps.append(this_gap)\n",
    "        if len(gaps) == 0:\n",
    "            return -1\n",
    "        else:\n",
    "            return min(gaps)\n",
    "\n",
    "\n",
    "    def get_day_gap_after(s):\n",
    "        date_received, dates = s.split('-')\n",
    "        dates = dates.split(':')\n",
    "        gaps = []\n",
    "        for d in dates:\n",
    "            this_gap = (date(int(d[0:4]), int(d[4:6]), int(d[6:8])) - date(\n",
    "                int(date_received[0:4]), int(date_received[4:6]),\n",
    "                int(date_received[6:8]))).days\n",
    "            if this_gap > 0:                    #只考虑之后领取的\n",
    "                gaps.append(this_gap)\n",
    "        if len(gaps) == 0:\n",
    "            return -1\n",
    "        else:\n",
    "            return min(gaps)\n",
    "\n",
    "\n",
    "    t7 = dataset[['user_id', 'coupon_id', 'date_received']]\n",
    "    t7 = pd.merge(t7, t6, on=['user_id', 'coupon_id'], how='left')\n",
    "    t7['date_received_date'] = t7.date_received.astype('str') + '-' + t7.dates\n",
    "    t7['day_gap_before'] = t7.date_received_date.apply(get_day_gap_before)\n",
    "    t7['day_gap_after'] = t7.date_received_date.apply(get_day_gap_after)\n",
    "    t7 = t7[[\n",
    "        'user_id', 'coupon_id', 'date_received', 'day_gap_before', 'day_gap_after'\n",
    "    ]]\n",
    "    \n",
    "    other_feature = pd.merge(t1,t,on='user_id')\n",
    "    other_feature = pd.merge(other_feature,t3,on=['user_id','coupon_id'])\n",
    "    other_feature = pd.merge(other_feature,t4,on=['user_id','date_received'])\n",
    "    other_feature = pd.merge(other_feature,t5,on=['user_id','coupon_id','date_received'])\n",
    "    other_feature = pd.merge(other_feature,t7,on=['user_id','coupon_id','date_received'])\n",
    "#     other_feature.to_csv('data/other_feature2.csv',index=None)\n",
    "#     print(other_feature2.shape)\n",
    "    return other_feature"
   ]
  },
  {
   "cell_type": "code",
   "execution_count": 82,
   "metadata": {},
   "outputs": [
    {
     "name": "stderr",
     "output_type": "stream",
     "text": [
      "<ipython-input-80-67c2dc43930f>:5: SettingWithCopyWarning: \n",
      "A value is trying to be set on a copy of a slice from a DataFrame.\n",
      "Try using .loc[row_indexer,col_indexer] = value instead\n",
      "\n",
      "See the caveats in the documentation: https://pandas.pydata.org/pandas-docs/stable/user_guide/indexing.html#returning-a-view-versus-a-copy\n",
      "  t['this_month_user_receive_all_coupon_count'] = 1\n",
      "<ipython-input-80-67c2dc43930f>:9: SettingWithCopyWarning: \n",
      "A value is trying to be set on a copy of a slice from a DataFrame.\n",
      "Try using .loc[row_indexer,col_indexer] = value instead\n",
      "\n",
      "See the caveats in the documentation: https://pandas.pydata.org/pandas-docs/stable/user_guide/indexing.html#returning-a-view-versus-a-copy\n",
      "  t1['this_month_user_receive_same_coupon_count'] = 1\n",
      "/Users/jimmy233/opt/anaconda3/lib/python3.8/site-packages/pandas/core/generic.py:5303: SettingWithCopyWarning: \n",
      "A value is trying to be set on a copy of a slice from a DataFrame.\n",
      "Try using .loc[row_indexer,col_indexer] = value instead\n",
      "\n",
      "See the caveats in the documentation: https://pandas.pydata.org/pandas-docs/stable/user_guide/indexing.html#returning-a-view-versus-a-copy\n",
      "  self[name] = value\n",
      "<ipython-input-80-67c2dc43930f>:55: SettingWithCopyWarning: \n",
      "A value is trying to be set on a copy of a slice from a DataFrame.\n",
      "Try using .loc[row_indexer,col_indexer] = value instead\n",
      "\n",
      "See the caveats in the documentation: https://pandas.pydata.org/pandas-docs/stable/user_guide/indexing.html#returning-a-view-versus-a-copy\n",
      "  t4['this_day_user_receive_all_coupon_count'] = 1\n",
      "<ipython-input-80-67c2dc43930f>:59: SettingWithCopyWarning: \n",
      "A value is trying to be set on a copy of a slice from a DataFrame.\n",
      "Try using .loc[row_indexer,col_indexer] = value instead\n",
      "\n",
      "See the caveats in the documentation: https://pandas.pydata.org/pandas-docs/stable/user_guide/indexing.html#returning-a-view-versus-a-copy\n",
      "  t5['this_day_user_receive_same_coupon_count'] = 1\n"
     ]
    }
   ],
   "source": [
    "other_feature2 = get_feature(dataset2)\n",
    "# print('shape :',other_feature2.shape)\n",
    "# print('columns : ',other_feature2.columns)\n",
    "other_feature2.to_csv('data/other_feature2.csv',index=None)"
   ]
  },
  {
   "cell_type": "markdown",
   "metadata": {},
   "source": [
    "## dataset1 other feature"
   ]
  },
  {
   "cell_type": "code",
   "execution_count": 83,
   "metadata": {},
   "outputs": [
    {
     "name": "stderr",
     "output_type": "stream",
     "text": [
      "<ipython-input-80-67c2dc43930f>:5: SettingWithCopyWarning: \n",
      "A value is trying to be set on a copy of a slice from a DataFrame.\n",
      "Try using .loc[row_indexer,col_indexer] = value instead\n",
      "\n",
      "See the caveats in the documentation: https://pandas.pydata.org/pandas-docs/stable/user_guide/indexing.html#returning-a-view-versus-a-copy\n",
      "  t['this_month_user_receive_all_coupon_count'] = 1\n",
      "<ipython-input-80-67c2dc43930f>:9: SettingWithCopyWarning: \n",
      "A value is trying to be set on a copy of a slice from a DataFrame.\n",
      "Try using .loc[row_indexer,col_indexer] = value instead\n",
      "\n",
      "See the caveats in the documentation: https://pandas.pydata.org/pandas-docs/stable/user_guide/indexing.html#returning-a-view-versus-a-copy\n",
      "  t1['this_month_user_receive_same_coupon_count'] = 1\n",
      "<ipython-input-80-67c2dc43930f>:55: SettingWithCopyWarning: \n",
      "A value is trying to be set on a copy of a slice from a DataFrame.\n",
      "Try using .loc[row_indexer,col_indexer] = value instead\n",
      "\n",
      "See the caveats in the documentation: https://pandas.pydata.org/pandas-docs/stable/user_guide/indexing.html#returning-a-view-versus-a-copy\n",
      "  t4['this_day_user_receive_all_coupon_count'] = 1\n",
      "<ipython-input-80-67c2dc43930f>:59: SettingWithCopyWarning: \n",
      "A value is trying to be set on a copy of a slice from a DataFrame.\n",
      "Try using .loc[row_indexer,col_indexer] = value instead\n",
      "\n",
      "See the caveats in the documentation: https://pandas.pydata.org/pandas-docs/stable/user_guide/indexing.html#returning-a-view-versus-a-copy\n",
      "  t5['this_day_user_receive_same_coupon_count'] = 1\n"
     ]
    }
   ],
   "source": [
    "other_feature1 = get_feature(dataset1)\n",
    "\n",
    "\n",
    "other_feature1.to_csv('data/other_feature1.csv',index=None)"
   ]
  },
  {
   "cell_type": "markdown",
   "metadata": {},
   "source": [
    "# merchant related feature"
   ]
  },
  {
   "cell_type": "markdown",
   "metadata": {},
   "source": [
    "## dataset3 merchant feature"
   ]
  },
  {
   "cell_type": "code",
   "execution_count": 84,
   "metadata": {},
   "outputs": [
    {
     "name": "stderr",
     "output_type": "stream",
     "text": [
      "<ipython-input-84-234cbc228e30>:7: SettingWithCopyWarning: \n",
      "A value is trying to be set on a copy of a slice from a DataFrame\n",
      "\n",
      "See the caveats in the documentation: https://pandas.pydata.org/pandas-docs/stable/user_guide/indexing.html#returning-a-view-versus-a-copy\n",
      "  t.drop_duplicates(inplace=True)\n"
     ]
    }
   ],
   "source": [
    "#for dataset3\n",
    "merchant3 = feature3[[\n",
    "    'merchant_id', 'coupon_id', 'distance', 'date_received', 'date'\n",
    "]]\n",
    "\n",
    "t = merchant3[['merchant_id']]\n",
    "t.drop_duplicates(inplace=True)\n",
    "\n",
    "#每商家总消费记录数目\n",
    "t1 = merchant3[merchant3.date != 'null'][['merchant_id']]\n",
    "t1['total_sales'] = 1\n",
    "t1 = t1.groupby('merchant_id').agg('sum').reset_index()\n",
    "#商家优惠券使用记录\n",
    "t2 = merchant3[(merchant3.date != 'null') & (merchant3.coupon_id != 'null')][[\n",
    "    'merchant_id'\n",
    "]]\n",
    "t2['sales_use_coupon'] = 1\n",
    "t2 = t2.groupby('merchant_id').agg('sum').reset_index()\n",
    "#每家店发出多少优惠券\n",
    "t3 = merchant3[merchant3.coupon_id != 'null'][['merchant_id']]\n",
    "t3['total_coupon'] = 1\n",
    "t3 = t3.groupby('merchant_id').agg('sum').reset_index()\n",
    "#商家被核销优惠券中的平均/最小/最大/中位数用户-商家距离\n",
    "t4 = merchant3[(merchant3.date != 'null') & (merchant3.coupon_id != 'null')][[\n",
    "    'merchant_id', 'distance'\n",
    "]]\n",
    "t4.replace('null', -1, inplace=True)\n",
    "t4.distance = t4.distance.astype('int')\n",
    "t4.replace(-1, np.nan, inplace=True)\n",
    "t5 = t4.groupby('merchant_id').agg('min').reset_index()\n",
    "t5.rename(columns={'distance': 'merchant_min_distance'}, inplace=True)\n",
    "\n",
    "t6 = t4.groupby('merchant_id').agg('max').reset_index()\n",
    "t6.rename(columns={'distance': 'merchant_max_distance'}, inplace=True)\n",
    "\n",
    "t7 = t4.groupby('merchant_id').agg('mean').reset_index()\n",
    "t7.rename(columns={'distance': 'merchant_mean_distance'}, inplace=True)\n",
    "\n",
    "t8 = t4.groupby('merchant_id').agg('median').reset_index()\n",
    "t8.rename(columns={'distance': 'merchant_median_distance'}, inplace=True)\n",
    "\n",
    "merchant3_feature = pd.merge(t, t1, on='merchant_id', how='left')\n",
    "merchant3_feature = pd.merge(\n",
    "    merchant3_feature, t2, on='merchant_id', how='left')\n",
    "merchant3_feature = pd.merge(\n",
    "    merchant3_feature, t3, on='merchant_id', how='left')\n",
    "merchant3_feature = pd.merge(\n",
    "    merchant3_feature, t5, on='merchant_id', how='left')\n",
    "merchant3_feature = pd.merge(\n",
    "    merchant3_feature, t6, on='merchant_id', how='left')\n",
    "merchant3_feature = pd.merge(\n",
    "    merchant3_feature, t7, on='merchant_id', how='left')\n",
    "merchant3_feature = pd.merge(\n",
    "    merchant3_feature, t8, on='merchant_id', how='left')\n",
    "merchant3_feature.sales_use_coupon = merchant3_feature.sales_use_coupon.replace(\n",
    "    np.nan, 0)  #fillna with 0\n",
    "#商家优惠券核销率\n",
    "merchant3_feature[\n",
    "    'merchant_coupon_transfer_rate'] = merchant3_feature.sales_use_coupon.astype(\n",
    "        'float') / merchant3_feature.total_coupon\n",
    "#商家销售中使用优惠券概率\n",
    "merchant3_feature['coupon_rate'] = merchant3_feature.sales_use_coupon.astype(\n",
    "    'float') / merchant3_feature.total_sales\n",
    "\n",
    "merchant3_feature.total_coupon = merchant3_feature.total_coupon.replace(\n",
    "    np.nan, 0)  #fillna with 0"
   ]
  },
  {
   "cell_type": "code",
   "execution_count": 85,
   "metadata": {},
   "outputs": [],
   "source": [
    "merchant3_feature.to_csv('data/merchant3_feature.csv', index=None)"
   ]
  },
  {
   "cell_type": "markdown",
   "metadata": {},
   "source": [
    "## dataset2 merchant feature"
   ]
  },
  {
   "cell_type": "code",
   "execution_count": 86,
   "metadata": {},
   "outputs": [
    {
     "name": "stderr",
     "output_type": "stream",
     "text": [
      "<ipython-input-86-cb32700f20e8>:5: SettingWithCopyWarning: \n",
      "A value is trying to be set on a copy of a slice from a DataFrame\n",
      "\n",
      "See the caveats in the documentation: https://pandas.pydata.org/pandas-docs/stable/user_guide/indexing.html#returning-a-view-versus-a-copy\n",
      "  t.drop_duplicates(inplace=True)\n"
     ]
    }
   ],
   "source": [
    "#for dataset2\n",
    "merchant2 = feature2[['merchant_id','coupon_id','distance','date_received','date']]\n",
    "\n",
    "t = merchant2[['merchant_id']]\n",
    "t.drop_duplicates(inplace=True)\n",
    "\n",
    "t1 = merchant2[merchant2.date!='null'][['merchant_id']]\n",
    "t1['total_sales'] = 1\n",
    "t1 = t1.groupby('merchant_id').agg('sum').reset_index()\n",
    "\n",
    "t2 = merchant2[(merchant2.date!='null')&(merchant2.coupon_id!='null')][['merchant_id']]\n",
    "t2['sales_use_coupon'] = 1\n",
    "t2 = t2.groupby('merchant_id').agg('sum').reset_index()\n",
    "\n",
    "t3 = merchant2[merchant2.coupon_id!='null'][['merchant_id']]\n",
    "t3['total_coupon'] = 1\n",
    "t3 = t3.groupby('merchant_id').agg('sum').reset_index()\n",
    "\n",
    "t4 = merchant2[(merchant2.date!='null')&(merchant2.coupon_id!='null')][['merchant_id','distance']]\n",
    "t4.replace('null',-1,inplace=True)\n",
    "t4.distance = t4.distance.astype('int')\n",
    "t4.replace(-1,np.nan,inplace=True)\n",
    "t5 = t4.groupby('merchant_id').agg('min').reset_index()\n",
    "t5.rename(columns={'distance':'merchant_min_distance'},inplace=True)\n",
    "\n",
    "t6 = t4.groupby('merchant_id').agg('max').reset_index()\n",
    "t6.rename(columns={'distance':'merchant_max_distance'},inplace=True)\n",
    "\n",
    "t7 = t4.groupby('merchant_id').agg('mean').reset_index()\n",
    "t7.rename(columns={'distance':'merchant_mean_distance'},inplace=True)\n",
    "\n",
    "t8 = t4.groupby('merchant_id').agg('median').reset_index()\n",
    "t8.rename(columns={'distance':'merchant_median_distance'},inplace=True)\n",
    "\n",
    "merchant2_feature = pd.merge(t,t1,on='merchant_id',how='left')\n",
    "merchant2_feature = pd.merge(merchant2_feature,t2,on='merchant_id',how='left')\n",
    "merchant2_feature = pd.merge(merchant2_feature,t3,on='merchant_id',how='left')\n",
    "merchant2_feature = pd.merge(merchant2_feature,t5,on='merchant_id',how='left')\n",
    "merchant2_feature = pd.merge(merchant2_feature,t6,on='merchant_id',how='left')\n",
    "merchant2_feature = pd.merge(merchant2_feature,t7,on='merchant_id',how='left')\n",
    "merchant2_feature = pd.merge(merchant2_feature,t8,on='merchant_id',how='left')\n",
    "merchant2_feature.sales_use_coupon = merchant2_feature.sales_use_coupon.replace(np.nan,0) #fillna with 0\n",
    "merchant2_feature['merchant_coupon_transfer_rate'] = merchant2_feature.sales_use_coupon.astype('float') / merchant2_feature.total_coupon\n",
    "merchant2_feature['coupon_rate'] = merchant2_feature.sales_use_coupon.astype('float') / merchant2_feature.total_sales\n",
    "merchant2_feature.total_coupon = merchant2_feature.total_coupon.replace(np.nan,0) #fillna with 0\n"
   ]
  },
  {
   "cell_type": "code",
   "execution_count": 87,
   "metadata": {},
   "outputs": [],
   "source": [
    "merchant2_feature.to_csv('data/merchant2_feature.csv',index=None)"
   ]
  },
  {
   "cell_type": "markdown",
   "metadata": {},
   "source": [
    "## dataset1 merchant feature"
   ]
  },
  {
   "cell_type": "code",
   "execution_count": 88,
   "metadata": {},
   "outputs": [
    {
     "name": "stderr",
     "output_type": "stream",
     "text": [
      "<ipython-input-88-29af4d10b836>:5: SettingWithCopyWarning: \n",
      "A value is trying to be set on a copy of a slice from a DataFrame\n",
      "\n",
      "See the caveats in the documentation: https://pandas.pydata.org/pandas-docs/stable/user_guide/indexing.html#returning-a-view-versus-a-copy\n",
      "  t.drop_duplicates(inplace=True)\n"
     ]
    }
   ],
   "source": [
    "#for dataset1\n",
    "merchant1 = feature1[['merchant_id','coupon_id','distance','date_received','date']]\n",
    "\n",
    "t = merchant1[['merchant_id']]\n",
    "t.drop_duplicates(inplace=True)\n",
    "\n",
    "t1 = merchant1[merchant1.date!='null'][['merchant_id']]\n",
    "t1['total_sales'] = 1\n",
    "t1 = t1.groupby('merchant_id').agg('sum').reset_index()\n",
    "\n",
    "t2 = merchant1[(merchant1.date!='null')&(merchant1.coupon_id!='null')][['merchant_id']]\n",
    "t2['sales_use_coupon'] = 1\n",
    "t2 = t2.groupby('merchant_id').agg('sum').reset_index()\n",
    "\n",
    "t3 = merchant1[merchant1.coupon_id!='null'][['merchant_id']]\n",
    "t3['total_coupon'] = 1\n",
    "t3 = t3.groupby('merchant_id').agg('sum').reset_index()\n",
    "\n",
    "t4 = merchant1[(merchant1.date!='null')&(merchant1.coupon_id!='null')][['merchant_id','distance']]\n",
    "t4.replace('null',-1,inplace=True)\n",
    "t4.distance = t4.distance.astype('int')\n",
    "t4.replace(-1,np.nan,inplace=True)\n",
    "t5 = t4.groupby('merchant_id').agg('min').reset_index()\n",
    "t5.rename(columns={'distance':'merchant_min_distance'},inplace=True)\n",
    "\n",
    "t6 = t4.groupby('merchant_id').agg('max').reset_index()\n",
    "t6.rename(columns={'distance':'merchant_max_distance'},inplace=True)\n",
    "\n",
    "t7 = t4.groupby('merchant_id').agg('mean').reset_index()\n",
    "t7.rename(columns={'distance':'merchant_mean_distance'},inplace=True)\n",
    "\n",
    "t8 = t4.groupby('merchant_id').agg('median').reset_index()\n",
    "t8.rename(columns={'distance':'merchant_median_distance'},inplace=True)\n",
    "\n",
    "\n",
    "merchant1_feature = pd.merge(t,t1,on='merchant_id',how='left')\n",
    "merchant1_feature = pd.merge(merchant1_feature,t2,on='merchant_id',how='left')\n",
    "merchant1_feature = pd.merge(merchant1_feature,t3,on='merchant_id',how='left')\n",
    "merchant1_feature = pd.merge(merchant1_feature,t5,on='merchant_id',how='left')\n",
    "merchant1_feature = pd.merge(merchant1_feature,t6,on='merchant_id',how='left')\n",
    "merchant1_feature = pd.merge(merchant1_feature,t7,on='merchant_id',how='left')\n",
    "merchant1_feature = pd.merge(merchant1_feature,t8,on='merchant_id',how='left')\n",
    "merchant1_feature.sales_use_coupon = merchant1_feature.sales_use_coupon.replace(np.nan,0) #fillna with 0\n",
    "merchant1_feature['merchant_coupon_transfer_rate'] = merchant1_feature.sales_use_coupon.astype('float') / merchant1_feature.total_coupon\n",
    "merchant1_feature['coupon_rate'] = merchant1_feature.sales_use_coupon.astype('float') / merchant1_feature.total_sales\n",
    "merchant1_feature.total_coupon = merchant1_feature.total_coupon.replace(np.nan,0) #fillna with 0\n"
   ]
  },
  {
   "cell_type": "code",
   "execution_count": 89,
   "metadata": {},
   "outputs": [],
   "source": [
    "merchant1_feature.to_csv('data/merchant1_feature.csv',index=None)"
   ]
  },
  {
   "cell_type": "code",
   "execution_count": null,
   "metadata": {},
   "outputs": [],
   "source": []
  }
 ],
 "metadata": {
  "kernelspec": {
   "display_name": "Python 3",
   "language": "python",
   "name": "python3"
  },
  "language_info": {
   "codemirror_mode": {
    "name": "ipython",
    "version": 3
   },
   "file_extension": ".py",
   "mimetype": "text/x-python",
   "name": "python",
   "nbconvert_exporter": "python",
   "pygments_lexer": "ipython3",
   "version": "3.8.3"
  }
 },
 "nbformat": 4,
 "nbformat_minor": 4
}
